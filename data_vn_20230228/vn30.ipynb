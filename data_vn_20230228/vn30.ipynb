{
 "cells": [
  {
   "cell_type": "markdown",
   "id": "5784877d-ea87-40ba-bdde-33be6e96bec4",
   "metadata": {},
   "source": [
    "# Build the LSTM model using the VN30 dataset\n",
    "\n",
    "VN30 is a stock market index in Vietnam. It represents the performance of the 30 largest and most liquid stocks listed on the Ho Chi Minh Stock Exchange (HOSE), which is the main stock exchange in Vietnam. The VN30 index is a widely followed benchmark for the Vietnamese stock market and provides investors with an overview of the performance of the top companies in the country. The composition of the VN30 index is periodically reviewed and adjusted to ensure that it accurately reflects the market conditions."
   ]
  },
  {
   "cell_type": "code",
   "execution_count": 1,
   "id": "3026db2e-8d55-4c5a-883b-a38de762dd25",
   "metadata": {},
   "outputs": [],
   "source": [
    "# Load libraries\n",
    "import numpy as np\n",
    "import pandas as pd\n",
    "import matplotlib.pyplot as plt\n",
    "import sys\n",
    "sys.path.append('..')"
   ]
  },
  {
   "cell_type": "code",
   "execution_count": 4,
   "id": "500448d2-438e-49ed-9c9b-06e7c8a63c4b",
   "metadata": {},
   "outputs": [],
   "source": [
    "import os\n",
    "import pandas as pd\n",
    "import numpy as np\n",
    "\n",
    "# Define the sector of interest\n",
    "vn30 = np.array(['ACB', 'BCM', 'BID', 'BVH', 'CTG', 'FPT', 'GAS', 'GVR', 'HDB', 'HPG', 'MBB', 'MSN', 'MWG', 'NVL', 'PDR', 'PLX', \n",
    "        'POW', 'SAB', 'SSI', 'STB', 'TCB', 'TPB', 'VCB', 'VHM', 'VIB', 'VIC', 'VJC', 'VNM', 'VPB', 'VRE'])\n"
   ]
  },
  {
   "cell_type": "code",
   "execution_count": 5,
   "id": "84bce59d-e0e7-455c-b964-5d2ce093c69a",
   "metadata": {},
   "outputs": [],
   "source": [
    "# Load the historical price data for the selected tickers\n",
    "paths = []  # List to store individual DataFrames\n",
    "ticker_overview = pd.read_csv('ticker-overview.csv')\n",
    "\n",
    "for stock in vn30:\n",
    "    exchange = ticker_overview.loc[ticker_overview['ticker'] == stock, 'exchange'].iloc[0]\n",
    "    \n",
    "    if exchange == 'HOSE':\n",
    "        path = os.path.join('stock-historical-data', stock + '-VNINDEX-History.csv')\n",
    "        paths.append(path)\n",
    "            \n",
    "    elif exchange == 'HNX':\n",
    "        path = os.path.join('stock-historical-data', stock + '-' + exchange + 'Index' + '-History.csv')\n",
    "        paths.append(path)\n",
    "            \n",
    "    elif exchange == 'UPCOM':\n",
    "        continue"
   ]
  },
  {
   "cell_type": "code",
   "execution_count": 6,
   "id": "343afa5d-a15c-4c66-8b1b-61992ac3b9b9",
   "metadata": {},
   "outputs": [
    {
     "data": {
      "text/plain": [
       "['stock-historical-data/ACB-VNINDEX-History.csv',\n",
       " 'stock-historical-data/BCM-VNINDEX-History.csv',\n",
       " 'stock-historical-data/BID-VNINDEX-History.csv',\n",
       " 'stock-historical-data/BVH-VNINDEX-History.csv',\n",
       " 'stock-historical-data/CTG-VNINDEX-History.csv',\n",
       " 'stock-historical-data/FPT-VNINDEX-History.csv',\n",
       " 'stock-historical-data/GAS-VNINDEX-History.csv',\n",
       " 'stock-historical-data/GVR-VNINDEX-History.csv',\n",
       " 'stock-historical-data/HDB-VNINDEX-History.csv',\n",
       " 'stock-historical-data/HPG-VNINDEX-History.csv',\n",
       " 'stock-historical-data/MBB-VNINDEX-History.csv',\n",
       " 'stock-historical-data/MSN-VNINDEX-History.csv',\n",
       " 'stock-historical-data/MWG-VNINDEX-History.csv',\n",
       " 'stock-historical-data/NVL-VNINDEX-History.csv',\n",
       " 'stock-historical-data/PDR-VNINDEX-History.csv',\n",
       " 'stock-historical-data/PLX-VNINDEX-History.csv',\n",
       " 'stock-historical-data/POW-VNINDEX-History.csv',\n",
       " 'stock-historical-data/SAB-VNINDEX-History.csv',\n",
       " 'stock-historical-data/SSI-VNINDEX-History.csv',\n",
       " 'stock-historical-data/STB-VNINDEX-History.csv',\n",
       " 'stock-historical-data/TCB-VNINDEX-History.csv',\n",
       " 'stock-historical-data/TPB-VNINDEX-History.csv',\n",
       " 'stock-historical-data/VCB-VNINDEX-History.csv',\n",
       " 'stock-historical-data/VHM-VNINDEX-History.csv',\n",
       " 'stock-historical-data/VIB-VNINDEX-History.csv',\n",
       " 'stock-historical-data/VIC-VNINDEX-History.csv',\n",
       " 'stock-historical-data/VJC-VNINDEX-History.csv',\n",
       " 'stock-historical-data/VNM-VNINDEX-History.csv',\n",
       " 'stock-historical-data/VPB-VNINDEX-History.csv',\n",
       " 'stock-historical-data/VRE-VNINDEX-History.csv']"
      ]
     },
     "execution_count": 6,
     "metadata": {},
     "output_type": "execute_result"
    }
   ],
   "source": [
    "paths"
   ]
  },
  {
   "cell_type": "code",
   "execution_count": 7,
   "id": "146842a4-865e-4293-8c18-9a9af35217fd",
   "metadata": {},
   "outputs": [],
   "source": [
    "from sklearn.preprocessing import MinMaxScaler\n",
    "scaler = MinMaxScaler(feature_range=(0,1))\n",
    "window_size = 30\n",
    "X_data, y_data = [], []\n",
    "for path in paths:\n",
    "    df = pd.read_csv(path)\n",
    "    df1 = df.reset_index()['Close']\n",
    "    df1 = scaler.fit_transform(np.array(df1).reshape(-1,1))\n",
    "    for i in range(len(df1)-window_size-7):\n",
    "        a = df1[i:(i + window_size)]\n",
    "        X_data.append(a)\n",
    "        b = df1[(i + window_size):(i + window_size+7)] \n",
    "        y_data.append(b) "
   ]
  },
  {
   "cell_type": "code",
   "execution_count": 8,
   "id": "3788b2f3-2458-4b9c-bf26-8815071cccc3",
   "metadata": {},
   "outputs": [
    {
     "name": "stdout",
     "output_type": "stream",
     "text": [
      "Shape of training set:  (58814, 30, 1)\n",
      "Shape of validation set:  (6535, 30, 1)\n",
      "Shape of test set:  (7261, 30, 1)\n"
     ]
    }
   ],
   "source": [
    "### Split the data into training, validation and test set\n",
    "from helper_functions import data_preprocessing as pp\n",
    "X_train, y_train, X_val, y_val, X_test, y_test = pp.split_dataset(X_data, y_data, 0.1)\n",
    "\n",
    "print(\"Shape of training set: \", X_train.shape)\n",
    "print(\"Shape of validation set: \", X_val.shape)\n",
    "print(\"Shape of test set: \", X_test.shape)"
   ]
  },
  {
   "cell_type": "code",
   "execution_count": 10,
   "id": "e7562ed6-fc81-4193-8869-f4cde511a95c",
   "metadata": {},
   "outputs": [
    {
     "name": "stderr",
     "output_type": "stream",
     "text": [
      "2023-05-22 23:50:18.957770: I tensorflow/core/platform/cpu_feature_guard.cc:182] This TensorFlow binary is optimized to use available CPU instructions in performance-critical operations.\n",
      "To enable the following instructions: AVX2 AVX512F AVX512_VNNI FMA, in other operations, rebuild TensorFlow with the appropriate compiler flags.\n"
     ]
    },
    {
     "name": "stdout",
     "output_type": "stream",
     "text": [
      "Model: \"sequential\"\n",
      "_________________________________________________________________\n",
      " Layer (type)                Output Shape              Param #   \n",
      "=================================================================\n",
      " lstm (LSTM)                 (None, 30, 50)            10400     \n",
      "                                                                 \n",
      " lstm_1 (LSTM)               (None, 50)                20200     \n",
      "                                                                 \n",
      " dense (Dense)               (None, 50)                2550      \n",
      "                                                                 \n",
      " dense_1 (Dense)             (None, 7)                 357       \n",
      "                                                                 \n",
      "=================================================================\n",
      "Total params: 33,507\n",
      "Trainable params: 33,507\n",
      "Non-trainable params: 0\n",
      "_________________________________________________________________\n"
     ]
    }
   ],
   "source": [
    "### Create and train the model\n",
    "import tensorflow as tf\n",
    "from tensorflow.keras.models import Sequential\n",
    "from tensorflow.keras.layers import LSTM, Dropout, Dense, BatchNormalization\n",
    "from tensorflow.keras.callbacks import EarlyStopping\n",
    "\n",
    "# Define the LSTM model\n",
    "model = Sequential()\n",
    "model.add(LSTM(50, return_sequences=True, input_shape=(30, 1), activation='relu'))  # LSTM layer with 128 units\n",
    "model.add(LSTM(50, return_sequences=True, activation='relu'))\n",
    "model.add(LSTM(50, activation='relu'))  \n",
    "model.add(Dense(7))  # Dense output layer with 7 units\n",
    "\n",
    "early_stopping = EarlyStopping(monitor='val_mse', patience=10, restore_best_weights=True)\n",
    "model.summary()\n"
   ]
  },
  {
   "cell_type": "code",
   "execution_count": 11,
   "id": "6d8c83df-d811-4018-9462-87f207302fd2",
   "metadata": {},
   "outputs": [],
   "source": [
    "# Compile and train the model with Mean Squared Error loss function\n",
    "model.compile(optimizer= tf.keras.optimizers.Adam(learning_rate=0.01), loss='mse', metrics=['mse'])"
   ]
  },
  {
   "cell_type": "code",
   "execution_count": 12,
   "id": "6f1a344e-680e-472a-a97c-ada30d0e985d",
   "metadata": {},
   "outputs": [
    {
     "name": "stdout",
     "output_type": "stream",
     "text": [
      "Epoch 1/20\n",
      "58/58 [==============================] - 72s 845ms/step - loss: 1.2959 - mse: 1.2959 - val_loss: 0.0246 - val_mse: 0.0246\n",
      "Epoch 2/20\n",
      "58/58 [==============================] - 42s 724ms/step - loss: 0.0044 - mse: 0.0044 - val_loss: 0.0017 - val_mse: 0.0017\n",
      "Epoch 3/20\n",
      "58/58 [==============================] - 41s 697ms/step - loss: 0.0016 - mse: 0.0016 - val_loss: 0.0015 - val_mse: 0.0015\n",
      "Epoch 4/20\n",
      "58/58 [==============================] - 40s 701ms/step - loss: 0.0015 - mse: 0.0015 - val_loss: 0.0013 - val_mse: 0.0013\n",
      "Epoch 5/20\n",
      "58/58 [==============================] - 48s 828ms/step - loss: 0.0014 - mse: 0.0014 - val_loss: 0.0013 - val_mse: 0.0013\n",
      "Epoch 6/20\n",
      "58/58 [==============================] - 45s 771ms/step - loss: 0.0014 - mse: 0.0014 - val_loss: 0.0012 - val_mse: 0.0012\n",
      "Epoch 7/20\n",
      "58/58 [==============================] - 50s 848ms/step - loss: 0.0013 - mse: 0.0013 - val_loss: 0.0012 - val_mse: 0.0012\n",
      "Epoch 8/20\n",
      "58/58 [==============================] - 60s 1s/step - loss: 0.0012 - mse: 0.0012 - val_loss: 0.0011 - val_mse: 0.0011\n",
      "Epoch 9/20\n",
      "58/58 [==============================] - 43s 746ms/step - loss: 0.0012 - mse: 0.0012 - val_loss: 0.0012 - val_mse: 0.0012\n",
      "Epoch 10/20\n",
      "58/58 [==============================] - 30s 516ms/step - loss: 0.0012 - mse: 0.0012 - val_loss: 0.0011 - val_mse: 0.0011\n",
      "Epoch 11/20\n",
      "58/58 [==============================] - 41s 695ms/step - loss: 0.0011 - mse: 0.0011 - val_loss: 0.0012 - val_mse: 0.0012\n",
      "Epoch 12/20\n",
      "58/58 [==============================] - 46s 794ms/step - loss: 0.0011 - mse: 0.0011 - val_loss: 0.0010 - val_mse: 0.0010\n",
      "Epoch 13/20\n",
      "58/58 [==============================] - 41s 709ms/step - loss: 0.0011 - mse: 0.0011 - val_loss: 0.0010 - val_mse: 0.0010\n",
      "Epoch 14/20\n",
      "58/58 [==============================] - 40s 681ms/step - loss: 0.0011 - mse: 0.0011 - val_loss: 9.9313e-04 - val_mse: 9.9313e-04\n",
      "Epoch 15/20\n",
      "58/58 [==============================] - 44s 756ms/step - loss: 0.0010 - mse: 0.0010 - val_loss: 9.9067e-04 - val_mse: 9.9067e-04\n",
      "Epoch 16/20\n",
      "58/58 [==============================] - 46s 803ms/step - loss: 0.0010 - mse: 0.0010 - val_loss: 9.7995e-04 - val_mse: 9.7995e-04\n",
      "Epoch 17/20\n",
      "58/58 [==============================] - 43s 745ms/step - loss: 0.0010 - mse: 0.0010 - val_loss: 9.6327e-04 - val_mse: 9.6327e-04\n",
      "Epoch 18/20\n",
      "58/58 [==============================] - 36s 613ms/step - loss: 0.0010 - mse: 0.0010 - val_loss: 9.5851e-04 - val_mse: 9.5851e-04\n",
      "Epoch 19/20\n",
      "58/58 [==============================] - 40s 698ms/step - loss: 9.7514e-04 - mse: 9.7514e-04 - val_loss: 9.4703e-04 - val_mse: 9.4703e-04\n",
      "Epoch 20/20\n",
      "58/58 [==============================] - 44s 764ms/step - loss: 9.5820e-04 - mse: 9.5820e-04 - val_loss: 9.3246e-04 - val_mse: 9.3246e-04\n"
     ]
    },
    {
     "data": {
      "text/plain": [
       "<keras.callbacks.History at 0x7fa4d3195a30>"
      ]
     },
     "execution_count": 12,
     "metadata": {},
     "output_type": "execute_result"
    }
   ],
   "source": [
    "model.fit(X_train,y_train,validation_data=(X_val,y_val),epochs=20,batch_size=1028,verbose=1,callbacks = [early_stopping])"
   ]
  },
  {
   "cell_type": "code",
   "execution_count": 22,
   "id": "845fcdb2-2e3e-4f09-8fe9-055b75a28858",
   "metadata": {},
   "outputs": [
    {
     "data": {
      "text/plain": [
       "array([0.47239685, 0.4719757 , 0.47294396, 0.47276515, 0.47381753,\n",
       "       0.47129896, 0.47113532], dtype=float32)"
      ]
     },
     "execution_count": 22,
     "metadata": {},
     "output_type": "execute_result"
    }
   ],
   "source": [
    "y_pred[0]"
   ]
  },
  {
   "cell_type": "code",
   "execution_count": 23,
   "id": "eb730e7d-6304-42dd-b37b-9dcd0f5cbacb",
   "metadata": {},
   "outputs": [
    {
     "data": {
      "text/plain": [
       "array([[0.43579519],\n",
       "       [0.44062868],\n",
       "       [0.42935054],\n",
       "       [0.43337845],\n",
       "       [0.42935054],\n",
       "       [0.42935054],\n",
       "       [0.42451705]])"
      ]
     },
     "execution_count": 23,
     "metadata": {},
     "output_type": "execute_result"
    }
   ],
   "source": [
    "y_test[0]"
   ]
  },
  {
   "cell_type": "code",
   "execution_count": null,
   "id": "d18b9957-136f-44c8-a8b4-6abddd4c3546",
   "metadata": {},
   "outputs": [
    {
     "name": "stdout",
     "output_type": "stream",
     "text": [
      "227/227 [==============================] - 4s 16ms/step\n",
      "MSE on the test set:  0.0011495360901999244\n"
     ]
    }
   ],
   "source": [
    "### Get prediction on the test data and convert the result back to stock price (i.e., de-normalization)\n",
    "from sklearn.metrics import mean_squared_error\n",
    "\n",
    "# Get prediction on the test data\n",
    "y_pred = model.predict(X_test)\n",
    "y_pred = np.reshape(y_pred, (-1, 1))\n",
    "y_test = np.reshape(y_test, (-1, 1))\n",
    "print(\"MSE on the test set: \", mean_squared_error(y_pred, y_test))"
   ]
  },
  {
   "cell_type": "markdown",
   "id": "74a0f2d1-156e-409e-a32e-4208e4894c1a",
   "metadata": {},
   "source": [
    "# Use the LSTM model to predict on one sample: ACB"
   ]
  },
  {
   "cell_type": "code",
   "execution_count": 28,
   "id": "82d1781e-66e7-4272-83d6-825f53caefcd",
   "metadata": {},
   "outputs": [],
   "source": [
    "df_ACB = pd.read_csv(paths[0])"
   ]
  },
  {
   "cell_type": "code",
   "execution_count": 29,
   "id": "a1aef566-6056-4348-ba4c-234ff27c6a20",
   "metadata": {},
   "outputs": [],
   "source": [
    "from sklearn.preprocessing import MinMaxScaler\n",
    "scaler = MinMaxScaler(feature_range=(0,1))\n",
    "window_size = 30\n",
    "X_data, y_data = [], []\n",
    "df = df_ACB.reset_index()['Close']\n",
    "df = scaler.fit_transform(np.array(df).reshape(-1,1))\n",
    "for i in range(len(df)-window_size-7):\n",
    "    a = df[i:(i + window_size)]\n",
    "    X_data.append(a)\n",
    "    b = df[(i + window_size):(i + window_size+7)] \n",
    "    y_data.append(b) "
   ]
  },
  {
   "cell_type": "code",
   "execution_count": 30,
   "id": "ce8733c5-c896-4add-a23e-27f398acaf8f",
   "metadata": {},
   "outputs": [
    {
     "name": "stdout",
     "output_type": "stream",
     "text": [
      "Shape of training set:  (3251, 30, 1)\n",
      "Shape of validation set:  (362, 30, 1)\n",
      "Shape of test set:  (402, 30, 1)\n"
     ]
    }
   ],
   "source": [
    "### Split the data into training, validation and test set\n",
    "from helper_functions import data_preprocessing as pp\n",
    "X_train, y_train, X_val, y_val, X_test, y_test = pp.split_dataset(X_data, y_data, 0.1)\n",
    "\n",
    "print(\"Shape of training set: \", X_train.shape)\n",
    "print(\"Shape of validation set: \", X_val.shape)\n",
    "print(\"Shape of test set: \", X_test.shape)"
   ]
  },
  {
   "cell_type": "code",
   "execution_count": 32,
   "id": "a68d2252-734c-46aa-9192-bbfdf136e86e",
   "metadata": {},
   "outputs": [
    {
     "name": "stdout",
     "output_type": "stream",
     "text": [
      "13/13 [==============================] - 0s 14ms/step\n"
     ]
    }
   ],
   "source": [
    "y_pred_ACB = model.predict(X_test)"
   ]
  },
  {
   "cell_type": "code",
   "execution_count": 33,
   "id": "c6138f73-adf6-425c-ab61-0a4ce234943c",
   "metadata": {},
   "outputs": [
    {
     "name": "stdout",
     "output_type": "stream",
     "text": [
      "MSE on the test set:  0.0014997106356902893\n"
     ]
    }
   ],
   "source": [
    "y_pred = np.reshape(y_pred_ACB, (-1, 1))\n",
    "y_test = np.reshape(y_test, (-1, 1))\n",
    "print(\"MSE on the test set: \", mean_squared_error(y_pred, y_test))"
   ]
  }
 ],
 "metadata": {
  "kernelspec": {
   "display_name": "Python 3 (ipykernel)",
   "language": "python",
   "name": "python3"
  },
  "language_info": {
   "codemirror_mode": {
    "name": "ipython",
    "version": 3
   },
   "file_extension": ".py",
   "mimetype": "text/x-python",
   "name": "python",
   "nbconvert_exporter": "python",
   "pygments_lexer": "ipython3",
   "version": "3.9.13"
  }
 },
 "nbformat": 4,
 "nbformat_minor": 5
}
