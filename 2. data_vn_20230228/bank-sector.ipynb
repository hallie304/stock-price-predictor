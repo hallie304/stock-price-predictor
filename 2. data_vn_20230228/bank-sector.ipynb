{
  "cells": [
    {
      "cell_type": "markdown",
      "source": [
        "# Build and train the model in a specific sector: Banks\n",
        "\n",
        "You can try any sector you want by replacing the `sector` in the code"
      ],
      "metadata": {
        "id": "dR1zyCDvknTW"
      },
      "id": "dR1zyCDvknTW"
    },
    {
      "cell_type": "code",
      "execution_count": 11,
      "id": "ce2a1590-6a0b-417b-b77d-43bc664b2e6e",
      "metadata": {
        "id": "ce2a1590-6a0b-417b-b77d-43bc664b2e6e"
      },
      "outputs": [],
      "source": [
        "# Load libraries\n",
        "import numpy as np\n",
        "import pandas as pd\n",
        "import matplotlib.pyplot as plt\n",
        "import sys\n",
        "sys.path.append('..')"
      ]
    },
    {
      "cell_type": "code",
      "execution_count": 12,
      "id": "114dca2a-3623-4bcb-9794-68393c2c1d3d",
      "metadata": {
        "id": "114dca2a-3623-4bcb-9794-68393c2c1d3d"
      },
      "outputs": [],
      "source": [
        "# Load data from csv file\n",
        "data_companies = pd.read_csv('ticker-overview.csv')\n",
        "data_companies = data_companies.drop('Unnamed: 0', axis = 1)"
      ]
    },
    {
      "cell_type": "code",
      "execution_count": 13,
      "id": "af7c723a-0567-484f-bc08-389eac97ad45",
      "metadata": {
        "colab": {
          "base_uri": "https://localhost:8080/"
        },
        "id": "af7c723a-0567-484f-bc08-389eac97ad45",
        "outputId": "0ce58150-3b68-46fe-d622-f100204076b6"
      },
      "outputs": [
        {
          "output_type": "execute_result",
          "data": {
            "text/plain": [
              "Construction & Materials       335\n",
              "Industrial Goods & Services    265\n",
              "Food & Beverage                150\n",
              "Utilities                      145\n",
              "Real Estate                    125\n",
              "Basic Resources                110\n",
              "Personal & Household Goods      77\n",
              "Chemicals                       73\n",
              "Health Care                     59\n",
              "Financial Services              55\n",
              "Travel & Leisure                50\n",
              "Media                           41\n",
              "Retail                          32\n",
              "Technology                      30\n",
              "Banks                           27\n",
              "Automobiles & Parts             15\n",
              "Insurance                       12\n",
              "Oil & Gas                       12\n",
              "Telecommunications               8\n",
              "Name: industryEn, dtype: int64"
            ]
          },
          "metadata": {},
          "execution_count": 13
        }
      ],
      "source": [
        "data_companies['industryEn'].value_counts()"
      ]
    },
    {
      "cell_type": "code",
      "execution_count": 14,
      "id": "341d6177-a1e6-4fe9-b77a-237845b46408",
      "metadata": {
        "colab": {
          "base_uri": "https://localhost:8080/",
          "height": 386
        },
        "id": "341d6177-a1e6-4fe9-b77a-237845b46408",
        "outputId": "fc376299-a9d6-4eca-97cf-f57ad948be2f"
      },
      "outputs": [
        {
          "output_type": "execute_result",
          "data": {
            "text/plain": [
              "  exchange         shortName  industryID  industryIDv2   industry industryEn  \\\n",
              "1     HOSE               ACB       289.0        8355.0  Ngân hàng      Banks   \n",
              "2     HOSE              BIDV       289.0        8355.0  Ngân hàng      Banks   \n",
              "6     HOSE            HDBank       289.0        8355.0  Ngân hàng      Banks   \n",
              "8     HOSE  LienVietPostBank       289.0        8355.0  Ngân hàng      Banks   \n",
              "9     HOSE            MBBank       289.0        8355.0  Ngân hàng      Banks   \n",
              "\n",
              "   establishedYear  noEmployees  noShareholders  foreignPercent  ...  \\\n",
              "1           1993.0      11008.0         44011.0           0.300  ...   \n",
              "2           1993.0      25416.0         36773.0           0.173  ...   \n",
              "6           1992.0      13992.0          6015.0           0.190  ...   \n",
              "8           2008.0       8105.0         59906.0           0.049  ...   \n",
              "9           1994.0      15910.0        126621.0           0.232  ...   \n",
              "\n",
              "  deltaInMonth  deltaInYear  outstandingShare  issueShare  companyType  \\\n",
              "1       -0.012        0.244            3377.4      3377.4           NH   \n",
              "2        0.002        0.347            5058.5      5058.5           NH   \n",
              "6        0.097        0.136            2515.3      2530.3           NH   \n",
              "8        0.073        0.180            1729.1      1729.1           NH   \n",
              "9        0.015       -0.043            4534.0      4534.0           NH   \n",
              "\n",
              "   ticker  status code message  traceId  \n",
              "1     ACB     NaN  NaN     NaN      NaN  \n",
              "2     BID     NaN  NaN     NaN      NaN  \n",
              "6     HDB     NaN  NaN     NaN      NaN  \n",
              "8     LPB     NaN  NaN     NaN      NaN  \n",
              "9     MBB     NaN  NaN     NaN      NaN  \n",
              "\n",
              "[5 rows x 23 columns]"
            ],
            "text/html": [
              "\n",
              "  <div id=\"df-dbb188c7-0054-4801-8533-f4a412a03a22\">\n",
              "    <div class=\"colab-df-container\">\n",
              "      <div>\n",
              "<style scoped>\n",
              "    .dataframe tbody tr th:only-of-type {\n",
              "        vertical-align: middle;\n",
              "    }\n",
              "\n",
              "    .dataframe tbody tr th {\n",
              "        vertical-align: top;\n",
              "    }\n",
              "\n",
              "    .dataframe thead th {\n",
              "        text-align: right;\n",
              "    }\n",
              "</style>\n",
              "<table border=\"1\" class=\"dataframe\">\n",
              "  <thead>\n",
              "    <tr style=\"text-align: right;\">\n",
              "      <th></th>\n",
              "      <th>exchange</th>\n",
              "      <th>shortName</th>\n",
              "      <th>industryID</th>\n",
              "      <th>industryIDv2</th>\n",
              "      <th>industry</th>\n",
              "      <th>industryEn</th>\n",
              "      <th>establishedYear</th>\n",
              "      <th>noEmployees</th>\n",
              "      <th>noShareholders</th>\n",
              "      <th>foreignPercent</th>\n",
              "      <th>...</th>\n",
              "      <th>deltaInMonth</th>\n",
              "      <th>deltaInYear</th>\n",
              "      <th>outstandingShare</th>\n",
              "      <th>issueShare</th>\n",
              "      <th>companyType</th>\n",
              "      <th>ticker</th>\n",
              "      <th>status</th>\n",
              "      <th>code</th>\n",
              "      <th>message</th>\n",
              "      <th>traceId</th>\n",
              "    </tr>\n",
              "  </thead>\n",
              "  <tbody>\n",
              "    <tr>\n",
              "      <th>1</th>\n",
              "      <td>HOSE</td>\n",
              "      <td>ACB</td>\n",
              "      <td>289.0</td>\n",
              "      <td>8355.0</td>\n",
              "      <td>Ngân hàng</td>\n",
              "      <td>Banks</td>\n",
              "      <td>1993.0</td>\n",
              "      <td>11008.0</td>\n",
              "      <td>44011.0</td>\n",
              "      <td>0.300</td>\n",
              "      <td>...</td>\n",
              "      <td>-0.012</td>\n",
              "      <td>0.244</td>\n",
              "      <td>3377.4</td>\n",
              "      <td>3377.4</td>\n",
              "      <td>NH</td>\n",
              "      <td>ACB</td>\n",
              "      <td>NaN</td>\n",
              "      <td>NaN</td>\n",
              "      <td>NaN</td>\n",
              "      <td>NaN</td>\n",
              "    </tr>\n",
              "    <tr>\n",
              "      <th>2</th>\n",
              "      <td>HOSE</td>\n",
              "      <td>BIDV</td>\n",
              "      <td>289.0</td>\n",
              "      <td>8355.0</td>\n",
              "      <td>Ngân hàng</td>\n",
              "      <td>Banks</td>\n",
              "      <td>1993.0</td>\n",
              "      <td>25416.0</td>\n",
              "      <td>36773.0</td>\n",
              "      <td>0.173</td>\n",
              "      <td>...</td>\n",
              "      <td>0.002</td>\n",
              "      <td>0.347</td>\n",
              "      <td>5058.5</td>\n",
              "      <td>5058.5</td>\n",
              "      <td>NH</td>\n",
              "      <td>BID</td>\n",
              "      <td>NaN</td>\n",
              "      <td>NaN</td>\n",
              "      <td>NaN</td>\n",
              "      <td>NaN</td>\n",
              "    </tr>\n",
              "    <tr>\n",
              "      <th>6</th>\n",
              "      <td>HOSE</td>\n",
              "      <td>HDBank</td>\n",
              "      <td>289.0</td>\n",
              "      <td>8355.0</td>\n",
              "      <td>Ngân hàng</td>\n",
              "      <td>Banks</td>\n",
              "      <td>1992.0</td>\n",
              "      <td>13992.0</td>\n",
              "      <td>6015.0</td>\n",
              "      <td>0.190</td>\n",
              "      <td>...</td>\n",
              "      <td>0.097</td>\n",
              "      <td>0.136</td>\n",
              "      <td>2515.3</td>\n",
              "      <td>2530.3</td>\n",
              "      <td>NH</td>\n",
              "      <td>HDB</td>\n",
              "      <td>NaN</td>\n",
              "      <td>NaN</td>\n",
              "      <td>NaN</td>\n",
              "      <td>NaN</td>\n",
              "    </tr>\n",
              "    <tr>\n",
              "      <th>8</th>\n",
              "      <td>HOSE</td>\n",
              "      <td>LienVietPostBank</td>\n",
              "      <td>289.0</td>\n",
              "      <td>8355.0</td>\n",
              "      <td>Ngân hàng</td>\n",
              "      <td>Banks</td>\n",
              "      <td>2008.0</td>\n",
              "      <td>8105.0</td>\n",
              "      <td>59906.0</td>\n",
              "      <td>0.049</td>\n",
              "      <td>...</td>\n",
              "      <td>0.073</td>\n",
              "      <td>0.180</td>\n",
              "      <td>1729.1</td>\n",
              "      <td>1729.1</td>\n",
              "      <td>NH</td>\n",
              "      <td>LPB</td>\n",
              "      <td>NaN</td>\n",
              "      <td>NaN</td>\n",
              "      <td>NaN</td>\n",
              "      <td>NaN</td>\n",
              "    </tr>\n",
              "    <tr>\n",
              "      <th>9</th>\n",
              "      <td>HOSE</td>\n",
              "      <td>MBBank</td>\n",
              "      <td>289.0</td>\n",
              "      <td>8355.0</td>\n",
              "      <td>Ngân hàng</td>\n",
              "      <td>Banks</td>\n",
              "      <td>1994.0</td>\n",
              "      <td>15910.0</td>\n",
              "      <td>126621.0</td>\n",
              "      <td>0.232</td>\n",
              "      <td>...</td>\n",
              "      <td>0.015</td>\n",
              "      <td>-0.043</td>\n",
              "      <td>4534.0</td>\n",
              "      <td>4534.0</td>\n",
              "      <td>NH</td>\n",
              "      <td>MBB</td>\n",
              "      <td>NaN</td>\n",
              "      <td>NaN</td>\n",
              "      <td>NaN</td>\n",
              "      <td>NaN</td>\n",
              "    </tr>\n",
              "  </tbody>\n",
              "</table>\n",
              "<p>5 rows × 23 columns</p>\n",
              "</div>\n",
              "      <button class=\"colab-df-convert\" onclick=\"convertToInteractive('df-dbb188c7-0054-4801-8533-f4a412a03a22')\"\n",
              "              title=\"Convert this dataframe to an interactive table.\"\n",
              "              style=\"display:none;\">\n",
              "        \n",
              "  <svg xmlns=\"http://www.w3.org/2000/svg\" height=\"24px\"viewBox=\"0 0 24 24\"\n",
              "       width=\"24px\">\n",
              "    <path d=\"M0 0h24v24H0V0z\" fill=\"none\"/>\n",
              "    <path d=\"M18.56 5.44l.94 2.06.94-2.06 2.06-.94-2.06-.94-.94-2.06-.94 2.06-2.06.94zm-11 1L8.5 8.5l.94-2.06 2.06-.94-2.06-.94L8.5 2.5l-.94 2.06-2.06.94zm10 10l.94 2.06.94-2.06 2.06-.94-2.06-.94-.94-2.06-.94 2.06-2.06.94z\"/><path d=\"M17.41 7.96l-1.37-1.37c-.4-.4-.92-.59-1.43-.59-.52 0-1.04.2-1.43.59L10.3 9.45l-7.72 7.72c-.78.78-.78 2.05 0 2.83L4 21.41c.39.39.9.59 1.41.59.51 0 1.02-.2 1.41-.59l7.78-7.78 2.81-2.81c.8-.78.8-2.07 0-2.86zM5.41 20L4 18.59l7.72-7.72 1.47 1.35L5.41 20z\"/>\n",
              "  </svg>\n",
              "      </button>\n",
              "      \n",
              "  <style>\n",
              "    .colab-df-container {\n",
              "      display:flex;\n",
              "      flex-wrap:wrap;\n",
              "      gap: 12px;\n",
              "    }\n",
              "\n",
              "    .colab-df-convert {\n",
              "      background-color: #E8F0FE;\n",
              "      border: none;\n",
              "      border-radius: 50%;\n",
              "      cursor: pointer;\n",
              "      display: none;\n",
              "      fill: #1967D2;\n",
              "      height: 32px;\n",
              "      padding: 0 0 0 0;\n",
              "      width: 32px;\n",
              "    }\n",
              "\n",
              "    .colab-df-convert:hover {\n",
              "      background-color: #E2EBFA;\n",
              "      box-shadow: 0px 1px 2px rgba(60, 64, 67, 0.3), 0px 1px 3px 1px rgba(60, 64, 67, 0.15);\n",
              "      fill: #174EA6;\n",
              "    }\n",
              "\n",
              "    [theme=dark] .colab-df-convert {\n",
              "      background-color: #3B4455;\n",
              "      fill: #D2E3FC;\n",
              "    }\n",
              "\n",
              "    [theme=dark] .colab-df-convert:hover {\n",
              "      background-color: #434B5C;\n",
              "      box-shadow: 0px 1px 3px 1px rgba(0, 0, 0, 0.15);\n",
              "      filter: drop-shadow(0px 1px 2px rgba(0, 0, 0, 0.3));\n",
              "      fill: #FFFFFF;\n",
              "    }\n",
              "  </style>\n",
              "\n",
              "      <script>\n",
              "        const buttonEl =\n",
              "          document.querySelector('#df-dbb188c7-0054-4801-8533-f4a412a03a22 button.colab-df-convert');\n",
              "        buttonEl.style.display =\n",
              "          google.colab.kernel.accessAllowed ? 'block' : 'none';\n",
              "\n",
              "        async function convertToInteractive(key) {\n",
              "          const element = document.querySelector('#df-dbb188c7-0054-4801-8533-f4a412a03a22');\n",
              "          const dataTable =\n",
              "            await google.colab.kernel.invokeFunction('convertToInteractive',\n",
              "                                                     [key], {});\n",
              "          if (!dataTable) return;\n",
              "\n",
              "          const docLinkHtml = 'Like what you see? Visit the ' +\n",
              "            '<a target=\"_blank\" href=https://colab.research.google.com/notebooks/data_table.ipynb>data table notebook</a>'\n",
              "            + ' to learn more about interactive tables.';\n",
              "          element.innerHTML = '';\n",
              "          dataTable['output_type'] = 'display_data';\n",
              "          await google.colab.output.renderOutput(dataTable, element);\n",
              "          const docLink = document.createElement('div');\n",
              "          docLink.innerHTML = docLinkHtml;\n",
              "          element.appendChild(docLink);\n",
              "        }\n",
              "      </script>\n",
              "    </div>\n",
              "  </div>\n",
              "  "
            ]
          },
          "metadata": {},
          "execution_count": 14
        }
      ],
      "source": [
        "# Only pick stickers from HOSE and HNX \n",
        "df = pd.read_csv('list-company-by-sector/Banks.csv')\n",
        "bank_df = df.drop(df[(df['exchange'] == 'UPCOM') | (df['noShareholders'] == 0.0)].index)\n",
        "bank_df.head()"
      ]
    },
    {
      "cell_type": "code",
      "execution_count": 15,
      "id": "86c03a5f-c852-4384-9dfe-6103b2648df4",
      "metadata": {
        "id": "86c03a5f-c852-4384-9dfe-6103b2648df4"
      },
      "outputs": [],
      "source": [
        "import os\n",
        "import pandas as pd\n",
        "import numpy as np\n",
        "\n",
        "# Define the sector of interest\n",
        "sector = 'Banks'\n",
        "\n",
        "# Load the ticket overview dataset\n",
        "ticker_overview = pd.read_csv('ticker-overview.csv')\n",
        "\n",
        "# Select the tickers for companies in the sector of interest\n",
        "tickers = ticker_overview.loc[ticker_overview['industryEn'] == sector, 'ticker'].tolist()"
      ]
    },
    {
      "cell_type": "code",
      "execution_count": 16,
      "id": "e79a611d-7be8-493f-872e-23015c01b1ff",
      "metadata": {
        "id": "e79a611d-7be8-493f-872e-23015c01b1ff"
      },
      "outputs": [],
      "source": [
        "# Load the historical price data for the selected tickers\n",
        "paths = []  # List to store individual DataFrames\n",
        "\n",
        "for ticker in tickers:\n",
        "    exchange = ticker_overview.loc[ticker_overview['ticker'] == ticker, 'exchange'].iloc[0]\n",
        "    \n",
        "    if exchange == 'HOSE':\n",
        "        path = os.path.join('stock-historical-data', ticker + '-VNINDEX-History.csv')\n",
        "        paths.append(path)\n",
        "            \n",
        "    elif exchange == 'HNX':\n",
        "        path = os.path.join('stock-historical-data', ticker + '-' + exchange + 'Index' + '-History.csv')\n",
        "        paths.append(path)\n",
        "            \n",
        "    elif exchange == 'UPCOM':\n",
        "        continue"
      ]
    },
    {
      "cell_type": "code",
      "execution_count": 17,
      "id": "f038a409-e5f6-41d7-91aa-80b477f6069b",
      "metadata": {
        "colab": {
          "base_uri": "https://localhost:8080/"
        },
        "id": "f038a409-e5f6-41d7-91aa-80b477f6069b",
        "outputId": "a55dc945-72a9-49f9-de16-57618f3a7e69"
      },
      "outputs": [
        {
          "output_type": "execute_result",
          "data": {
            "text/plain": [
              "['stock-historical-data/ACB-VNINDEX-History.csv',\n",
              " 'stock-historical-data/BID-VNINDEX-History.csv',\n",
              " 'stock-historical-data/CTG-VNINDEX-History.csv',\n",
              " 'stock-historical-data/EIB-VNINDEX-History.csv',\n",
              " 'stock-historical-data/HDB-VNINDEX-History.csv',\n",
              " 'stock-historical-data/LPB-VNINDEX-History.csv',\n",
              " 'stock-historical-data/MBB-VNINDEX-History.csv',\n",
              " 'stock-historical-data/MSB-VNINDEX-History.csv',\n",
              " 'stock-historical-data/BAB-HNXIndex-History.csv',\n",
              " 'stock-historical-data/NVB-HNXIndex-History.csv',\n",
              " 'stock-historical-data/OCB-VNINDEX-History.csv',\n",
              " 'stock-historical-data/SSB-VNINDEX-History.csv',\n",
              " 'stock-historical-data/SHB-VNINDEX-History.csv',\n",
              " 'stock-historical-data/STB-VNINDEX-History.csv',\n",
              " 'stock-historical-data/TCB-VNINDEX-History.csv',\n",
              " 'stock-historical-data/TPB-VNINDEX-History.csv',\n",
              " 'stock-historical-data/VCB-VNINDEX-History.csv',\n",
              " 'stock-historical-data/VIB-VNINDEX-History.csv',\n",
              " 'stock-historical-data/VPB-VNINDEX-History.csv']"
            ]
          },
          "metadata": {},
          "execution_count": 17
        }
      ],
      "source": [
        "paths"
      ]
    },
    {
      "cell_type": "code",
      "execution_count": 18,
      "id": "b4b603be-0886-4792-a2c3-bd22de9d4784",
      "metadata": {
        "id": "b4b603be-0886-4792-a2c3-bd22de9d4784"
      },
      "outputs": [],
      "source": [
        "from sklearn.preprocessing import MinMaxScaler\n",
        "scaler = MinMaxScaler(feature_range=(0,1))\n",
        "window_size = 30\n",
        "X_data, y_data = [], []\n",
        "for path in paths:\n",
        "    df = pd.read_csv(path)\n",
        "    df1 = df.reset_index()['Close']\n",
        "    df1 = scaler.fit_transform(np.array(df1).reshape(-1,1))\n",
        "    for i in range(len(df1)-window_size-7):\n",
        "        a = df1[i:(i + window_size)]\n",
        "        X_data.append(a)\n",
        "        b = df1[(i + window_size):(i + window_size+7)] \n",
        "        y_data.append(b) \n",
        "        "
      ]
    },
    {
      "cell_type": "code",
      "execution_count": 19,
      "id": "fd0f949f-09e6-4f40-b90b-359fc2e29bb6",
      "metadata": {
        "colab": {
          "base_uri": "https://localhost:8080/"
        },
        "id": "fd0f949f-09e6-4f40-b90b-359fc2e29bb6",
        "outputId": "9020b22e-4c84-4975-948e-79a54dbec3f4"
      },
      "outputs": [
        {
          "output_type": "execute_result",
          "data": {
            "text/plain": [
              "array([[0.15595229],\n",
              "       [0.16493346],\n",
              "       [0.17231474],\n",
              "       [0.18907716],\n",
              "       [0.18907716],\n",
              "       [0.18191404],\n",
              "       [0.17133299],\n",
              "       [0.15853392],\n",
              "       [0.15755218],\n",
              "       [0.15755218],\n",
              "       [0.13998982],\n",
              "       [0.14017162],\n",
              "       [0.16453349],\n",
              "       [0.17751436],\n",
              "       [0.18387754],\n",
              "       [0.17333285],\n",
              "       [0.17471457],\n",
              "       [0.17689623],\n",
              "       [0.18151407],\n",
              "       [0.18151407],\n",
              "       [0.18151407],\n",
              "       [0.18449567],\n",
              "       [0.18347757],\n",
              "       [0.17191477],\n",
              "       [0.17551451],\n",
              "       [0.17871428],\n",
              "       [0.19009527],\n",
              "       [0.19009527],\n",
              "       [0.19547669],\n",
              "       [0.19547669]])"
            ]
          },
          "metadata": {},
          "execution_count": 19
        }
      ],
      "source": [
        "X_data[0]"
      ]
    },
    {
      "cell_type": "code",
      "execution_count": 20,
      "id": "9193f498-0b41-4c0e-909b-3b32629ffb4f",
      "metadata": {
        "colab": {
          "base_uri": "https://localhost:8080/"
        },
        "id": "9193f498-0b41-4c0e-909b-3b32629ffb4f",
        "outputId": "8c9c0b9b-82d4-4376-9d7d-1f2d76a0f573"
      },
      "outputs": [
        {
          "output_type": "execute_result",
          "data": {
            "text/plain": [
              "array([[0.19525853],\n",
              "       [0.2054396 ],\n",
              "       [0.2110392 ],\n",
              "       [0.21005745],\n",
              "       [0.20743946],\n",
              "       [0.21383899],\n",
              "       [0.21583885]])"
            ]
          },
          "metadata": {},
          "execution_count": 20
        }
      ],
      "source": [
        "y_data[0]"
      ]
    },
    {
      "cell_type": "code",
      "execution_count": 21,
      "id": "341f1265-efe0-4d8e-89e7-1692dd18ae8d",
      "metadata": {
        "colab": {
          "base_uri": "https://localhost:8080/"
        },
        "id": "341f1265-efe0-4d8e-89e7-1692dd18ae8d",
        "outputId": "3ecafb41-d636-4de3-86f3-df7f2993b63a"
      },
      "outputs": [
        {
          "output_type": "stream",
          "name": "stdout",
          "text": [
            "Shape of training set:  (32450, 30, 1)\n",
            "Shape of validation set:  (3606, 30, 1)\n",
            "Shape of test set:  (4007, 30, 1)\n"
          ]
        }
      ],
      "source": [
        "### Split the data into training, validation and test set\n",
        "from helper_functions import data_preprocessing as pp\n",
        "X_train, y_train, X_val, y_val, X_test, y_test = pp.split_dataset(X_data, y_data, 0.1)\n",
        "\n",
        "print(\"Shape of training set: \", X_train.shape)\n",
        "print(\"Shape of validation set: \", X_val.shape)\n",
        "print(\"Shape of test set: \", X_test.shape)"
      ]
    },
    {
      "cell_type": "code",
      "execution_count": 22,
      "id": "8fea4b11-fc2a-4e56-a0eb-3590846819d9",
      "metadata": {
        "colab": {
          "base_uri": "https://localhost:8080/"
        },
        "id": "8fea4b11-fc2a-4e56-a0eb-3590846819d9",
        "outputId": "d7feca1c-2b07-4e0c-81b5-6e96e723fcae"
      },
      "outputs": [
        {
          "output_type": "stream",
          "name": "stderr",
          "text": [
            "WARNING:tensorflow:Layer lstm will not use cuDNN kernels since it doesn't meet the criteria. It will use a generic GPU kernel as fallback when running on GPU.\n",
            "WARNING:tensorflow:Layer lstm_1 will not use cuDNN kernels since it doesn't meet the criteria. It will use a generic GPU kernel as fallback when running on GPU.\n"
          ]
        },
        {
          "output_type": "stream",
          "name": "stdout",
          "text": [
            "Epoch 1/20\n",
            "32/32 [==============================] - 12s 130ms/step - loss: 1.3761 - mse: 1.3761 - val_loss: 0.0031 - val_mse: 0.0031\n",
            "Epoch 2/20\n",
            "32/32 [==============================] - 4s 115ms/step - loss: 0.0127 - mse: 0.0127 - val_loss: 0.0020 - val_mse: 0.0020\n",
            "Epoch 3/20\n",
            "32/32 [==============================] - 5s 159ms/step - loss: 0.0097 - mse: 0.0097 - val_loss: 0.0019 - val_mse: 0.0019\n",
            "Epoch 4/20\n",
            "32/32 [==============================] - 4s 122ms/step - loss: 0.0090 - mse: 0.0090 - val_loss: 0.0015 - val_mse: 0.0015\n",
            "Epoch 5/20\n",
            "32/32 [==============================] - 4s 123ms/step - loss: 0.0081 - mse: 0.0081 - val_loss: 0.0019 - val_mse: 0.0019\n",
            "Epoch 6/20\n",
            "32/32 [==============================] - 5s 155ms/step - loss: 0.0079 - mse: 0.0079 - val_loss: 0.0020 - val_mse: 0.0020\n",
            "Epoch 7/20\n",
            "32/32 [==============================] - 4s 117ms/step - loss: 0.0080 - mse: 0.0080 - val_loss: 0.0036 - val_mse: 0.0036\n",
            "Epoch 8/20\n",
            "32/32 [==============================] - 4s 115ms/step - loss: 0.0073 - mse: 0.0073 - val_loss: 0.0022 - val_mse: 0.0022\n",
            "Epoch 9/20\n",
            "32/32 [==============================] - 5s 158ms/step - loss: 0.0067 - mse: 0.0067 - val_loss: 0.0021 - val_mse: 0.0021\n",
            "Epoch 10/20\n",
            "32/32 [==============================] - 4s 115ms/step - loss: 0.0063 - mse: 0.0063 - val_loss: 0.0026 - val_mse: 0.0026\n",
            "Epoch 11/20\n",
            "32/32 [==============================] - 4s 114ms/step - loss: 0.0055 - mse: 0.0055 - val_loss: 0.0022 - val_mse: 0.0022\n",
            "Epoch 12/20\n",
            "32/32 [==============================] - 5s 155ms/step - loss: 0.0050 - mse: 0.0050 - val_loss: 0.0031 - val_mse: 0.0031\n",
            "Epoch 13/20\n",
            "32/32 [==============================] - 4s 114ms/step - loss: 0.0045 - mse: 0.0045 - val_loss: 0.0038 - val_mse: 0.0038\n",
            "Epoch 14/20\n",
            "32/32 [==============================] - 4s 115ms/step - loss: 0.0041 - mse: 0.0041 - val_loss: 0.0037 - val_mse: 0.0037\n"
          ]
        },
        {
          "output_type": "execute_result",
          "data": {
            "text/plain": [
              "<keras.callbacks.History at 0x7f8eac8cb8b0>"
            ]
          },
          "metadata": {},
          "execution_count": 22
        }
      ],
      "source": [
        "### Create and train the model\n",
        "import tensorflow as tf\n",
        "from tensorflow.keras.models import Sequential\n",
        "from tensorflow.keras.layers import LSTM, Dropout, Dense, BatchNormalization\n",
        "from tensorflow.keras.callbacks import EarlyStopping\n",
        "\n",
        "# Define the LSTM model\n",
        "model = Sequential()\n",
        "model.add(LSTM(256, return_sequences=True, input_shape=(30, 1), activation='relu'))  # LSTM layer with 128 units\n",
        "model.add(Dropout(0.5))  # Dropout layer for regularization\n",
        "model.add(LSTM(128, activation='relu'))\n",
        "model.add(Dropout(0.5))\n",
        "model.add(Dense(64, activation='relu'))  \n",
        "model.add(Dense(7))  # Dense output layer with 7 units\n",
        "\n",
        "early_stopping = EarlyStopping(monitor='val_mse', patience=10, restore_best_weights=True)\n",
        "\n",
        "# Compile and train the model with Mean Squared Error loss function\n",
        "model.compile(optimizer= tf.keras.optimizers.Adam(learning_rate=0.01), loss='mse', metrics=['mse'])\n",
        "model.fit(X_train,y_train,validation_data=(X_val,y_val),epochs=20,batch_size=1028,verbose=1,callbacks = [early_stopping])"
      ]
    },
    {
      "cell_type": "code",
      "execution_count": 23,
      "id": "42f5795f-f61e-40e5-9953-e87bc5c5633a",
      "metadata": {
        "colab": {
          "base_uri": "https://localhost:8080/"
        },
        "id": "42f5795f-f61e-40e5-9953-e87bc5c5633a",
        "outputId": "16e99906-e663-4160-e025-57624db96c8f"
      },
      "outputs": [
        {
          "output_type": "stream",
          "name": "stdout",
          "text": [
            "Model: \"sequential\"\n",
            "_________________________________________________________________\n",
            " Layer (type)                Output Shape              Param #   \n",
            "=================================================================\n",
            " lstm (LSTM)                 (None, 30, 256)           264192    \n",
            "                                                                 \n",
            " dropout (Dropout)           (None, 30, 256)           0         \n",
            "                                                                 \n",
            " lstm_1 (LSTM)               (None, 128)               197120    \n",
            "                                                                 \n",
            " dropout_1 (Dropout)         (None, 128)               0         \n",
            "                                                                 \n",
            " dense (Dense)               (None, 64)                8256      \n",
            "                                                                 \n",
            " dense_1 (Dense)             (None, 7)                 455       \n",
            "                                                                 \n",
            "=================================================================\n",
            "Total params: 470,023\n",
            "Trainable params: 470,023\n",
            "Non-trainable params: 0\n",
            "_________________________________________________________________\n"
          ]
        }
      ],
      "source": [
        "model.summary()"
      ]
    },
    {
      "cell_type": "code",
      "execution_count": 25,
      "id": "d37c252f-2792-4beb-a0fc-432ee9dc2f38",
      "metadata": {
        "colab": {
          "base_uri": "https://localhost:8080/"
        },
        "id": "d37c252f-2792-4beb-a0fc-432ee9dc2f38",
        "outputId": "7ca52b1e-e6d7-4102-f085-6bb5e93eb073"
      },
      "outputs": [
        {
          "output_type": "stream",
          "name": "stdout",
          "text": [
            "126/126 [==============================] - 2s 12ms/step\n",
            "MSE on the test set:  0.0035046333075473986\n"
          ]
        }
      ],
      "source": [
        "### Get prediction on the test data and convert the result back to stock price (i.e., de-normalization)\n",
        "from sklearn.metrics import mean_squared_error\n",
        "y_pred = model.predict(X_test)\n",
        "y_pred = np.reshape(y_pred, (-1, 1))\n",
        "y_test = np.reshape(y_test, (-1, 1))\n",
        "# Get prediction on the test data\n",
        "print(\"MSE on the test set: \", mean_squared_error(y_pred, y_test))"
      ]
    },
    {
      "cell_type": "code",
      "source": [
        "# Define the LSTM model2\n",
        "model2 = Sequential()\n",
        "model2.add(LSTM(256, return_sequences=True, input_shape=(30, 1), activation='relu'))  # LSTM layer with 128 units\n",
        "model2.add(LSTM(128, activation='relu'))\n",
        "model2.add(Dense(7))  # Dense output layer with 7 units\n",
        "\n",
        "early_stopping = EarlyStopping(monitor='val_mse', patience=10, restore_best_weights=True)\n",
        "model2.summary()"
      ],
      "metadata": {
        "colab": {
          "base_uri": "https://localhost:8080/"
        },
        "id": "U1IorLJbkRy8",
        "outputId": "49b8c6e3-332f-4afe-e9bd-bbee57912fa6"
      },
      "id": "U1IorLJbkRy8",
      "execution_count": 27,
      "outputs": [
        {
          "output_type": "stream",
          "name": "stderr",
          "text": [
            "WARNING:tensorflow:Layer lstm_2 will not use cuDNN kernels since it doesn't meet the criteria. It will use a generic GPU kernel as fallback when running on GPU.\n",
            "WARNING:tensorflow:Layer lstm_3 will not use cuDNN kernels since it doesn't meet the criteria. It will use a generic GPU kernel as fallback when running on GPU.\n"
          ]
        },
        {
          "output_type": "stream",
          "name": "stdout",
          "text": [
            "Model: \"sequential_1\"\n",
            "_________________________________________________________________\n",
            " Layer (type)                Output Shape              Param #   \n",
            "=================================================================\n",
            " lstm_2 (LSTM)               (None, 30, 256)           264192    \n",
            "                                                                 \n",
            " lstm_3 (LSTM)               (None, 128)               197120    \n",
            "                                                                 \n",
            " dense_2 (Dense)             (None, 7)                 903       \n",
            "                                                                 \n",
            "=================================================================\n",
            "Total params: 462,215\n",
            "Trainable params: 462,215\n",
            "Non-trainable params: 0\n",
            "_________________________________________________________________\n"
          ]
        }
      ]
    },
    {
      "cell_type": "code",
      "source": [
        "# Compile and train the model with Mean Squared Error loss function\n",
        "model2.compile(optimizer= tf.keras.optimizers.Adam(learning_rate=0.01), loss='mse', metrics=['mse'])\n",
        "model2.fit(X_train,y_train,validation_data=(X_val,y_val),epochs=50,batch_size=1028,verbose=1,callbacks = [early_stopping])"
      ],
      "metadata": {
        "colab": {
          "base_uri": "https://localhost:8080/"
        },
        "id": "6UgM6o7YkYHP",
        "outputId": "37e2bd99-f802-43a0-8420-2d8830afa518"
      },
      "id": "6UgM6o7YkYHP",
      "execution_count": 28,
      "outputs": [
        {
          "output_type": "stream",
          "name": "stdout",
          "text": [
            "Epoch 1/20\n",
            "32/32 [==============================] - 7s 131ms/step - loss: 5295.3994 - mse: 5295.3994 - val_loss: 0.0505 - val_mse: 0.0505\n",
            "Epoch 2/20\n",
            "32/32 [==============================] - 5s 140ms/step - loss: 0.0453 - mse: 0.0453 - val_loss: 0.0120 - val_mse: 0.0120\n",
            "Epoch 3/20\n",
            "32/32 [==============================] - 4s 114ms/step - loss: 0.0119 - mse: 0.0119 - val_loss: 0.0032 - val_mse: 0.0032\n",
            "Epoch 4/20\n",
            "32/32 [==============================] - 4s 115ms/step - loss: 0.0026 - mse: 0.0026 - val_loss: 0.0014 - val_mse: 0.0014\n",
            "Epoch 5/20\n",
            "32/32 [==============================] - 5s 151ms/step - loss: 0.0020 - mse: 0.0020 - val_loss: 0.0013 - val_mse: 0.0013\n",
            "Epoch 6/20\n",
            "32/32 [==============================] - 4s 112ms/step - loss: 0.0018 - mse: 0.0018 - val_loss: 0.0012 - val_mse: 0.0012\n",
            "Epoch 7/20\n",
            "32/32 [==============================] - 3s 109ms/step - loss: 0.0017 - mse: 0.0017 - val_loss: 9.7203e-04 - val_mse: 9.7203e-04\n",
            "Epoch 8/20\n",
            "32/32 [==============================] - 5s 156ms/step - loss: 0.0016 - mse: 0.0016 - val_loss: 9.4920e-04 - val_mse: 9.4920e-04\n",
            "Epoch 9/20\n",
            "32/32 [==============================] - 4s 118ms/step - loss: 0.0015 - mse: 0.0015 - val_loss: 8.9997e-04 - val_mse: 8.9997e-04\n",
            "Epoch 10/20\n",
            "32/32 [==============================] - 6s 191ms/step - loss: 0.0015 - mse: 0.0015 - val_loss: 8.7290e-04 - val_mse: 8.7290e-04\n",
            "Epoch 11/20\n",
            "32/32 [==============================] - 5s 141ms/step - loss: 0.0015 - mse: 0.0015 - val_loss: 8.8033e-04 - val_mse: 8.8033e-04\n",
            "Epoch 12/20\n",
            "32/32 [==============================] - 4s 110ms/step - loss: 0.0014 - mse: 0.0014 - val_loss: 8.3675e-04 - val_mse: 8.3675e-04\n",
            "Epoch 13/20\n",
            "32/32 [==============================] - 5s 151ms/step - loss: 0.0013 - mse: 0.0013 - val_loss: 8.1889e-04 - val_mse: 8.1889e-04\n",
            "Epoch 14/20\n",
            "32/32 [==============================] - 4s 112ms/step - loss: 0.0013 - mse: 0.0013 - val_loss: 7.9775e-04 - val_mse: 7.9775e-04\n",
            "Epoch 15/20\n",
            "32/32 [==============================] - 4s 113ms/step - loss: 0.0012 - mse: 0.0012 - val_loss: 7.9181e-04 - val_mse: 7.9181e-04\n",
            "Epoch 16/20\n",
            "32/32 [==============================] - 5s 143ms/step - loss: 0.0012 - mse: 0.0012 - val_loss: 7.7901e-04 - val_mse: 7.7901e-04\n",
            "Epoch 17/20\n",
            "32/32 [==============================] - 4s 114ms/step - loss: 0.0012 - mse: 0.0012 - val_loss: 7.1800e-04 - val_mse: 7.1800e-04\n",
            "Epoch 18/20\n",
            "32/32 [==============================] - 4s 110ms/step - loss: 0.0011 - mse: 0.0011 - val_loss: 7.1621e-04 - val_mse: 7.1621e-04\n",
            "Epoch 19/20\n",
            "32/32 [==============================] - 4s 129ms/step - loss: 0.0011 - mse: 0.0011 - val_loss: 7.1924e-04 - val_mse: 7.1924e-04\n",
            "Epoch 20/20\n",
            "32/32 [==============================] - 4s 129ms/step - loss: 0.0011 - mse: 0.0011 - val_loss: 6.5248e-04 - val_mse: 6.5248e-04\n"
          ]
        },
        {
          "output_type": "execute_result",
          "data": {
            "text/plain": [
              "<keras.callbacks.History at 0x7f8e20273bb0>"
            ]
          },
          "metadata": {},
          "execution_count": 28
        }
      ]
    },
    {
      "cell_type": "code",
      "source": [
        "### Get prediction on the test data and convert the result back to stock price (i.e., de-normalization)\n",
        "from sklearn.metrics import mean_squared_error\n",
        "y_pred = model.predict(X_test)\n",
        "y_pred = np.reshape(y_pred, (-1, 1))\n",
        "y_test = np.reshape(y_test, (-1, 1))\n",
        "# Get prediction on the test data\n",
        "print(\"MSE on the test set: \", mean_squared_error(y_pred, y_test))"
      ],
      "metadata": {
        "colab": {
          "base_uri": "https://localhost:8080/"
        },
        "id": "GMF4zzPCk79K",
        "outputId": "0d8b3aa6-8308-4475-98b8-00b722fcd160"
      },
      "id": "GMF4zzPCk79K",
      "execution_count": 29,
      "outputs": [
        {
          "output_type": "stream",
          "name": "stdout",
          "text": [
            "126/126 [==============================] - 1s 10ms/step\n",
            "MSE on the test set:  0.0035046333075473986\n"
          ]
        }
      ]
    },
    {
      "cell_type": "markdown",
      "source": [],
      "metadata": {
        "id": "RwlVjDEPkbh3"
      },
      "id": "RwlVjDEPkbh3"
    }
  ],
  "metadata": {
    "kernelspec": {
      "display_name": "Python 3 (ipykernel)",
      "language": "python",
      "name": "python3"
    },
    "language_info": {
      "codemirror_mode": {
        "name": "ipython",
        "version": 3
      },
      "file_extension": ".py",
      "mimetype": "text/x-python",
      "name": "python",
      "nbconvert_exporter": "python",
      "pygments_lexer": "ipython3",
      "version": "3.9.13"
    },
    "colab": {
      "provenance": [],
      "gpuType": "T4"
    },
    "accelerator": "GPU",
    "gpuClass": "standard"
  },
  "nbformat": 4,
  "nbformat_minor": 5
}