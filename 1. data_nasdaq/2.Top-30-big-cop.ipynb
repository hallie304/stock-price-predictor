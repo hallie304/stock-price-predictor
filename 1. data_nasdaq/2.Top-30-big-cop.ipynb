{
 "cells": [
  {
   "cell_type": "code",
   "execution_count": 1,
   "id": "a1bf123d-d962-4eaa-addd-3ac14969a473",
   "metadata": {
    "id": "a1bf123d-d962-4eaa-addd-3ac14969a473"
   },
   "outputs": [],
   "source": [
    "import os\n",
    "import numpy as np\n",
    "import pandas as pd\n",
    "import matplotlib.pyplot as plt\n",
    "import sys\n",
    "sys.path.append('..')"
   ]
  },
  {
   "cell_type": "code",
   "execution_count": 2,
   "id": "90961a2e-a731-4604-9503-8b172870f7c6",
   "metadata": {
    "id": "90961a2e-a731-4604-9503-8b172870f7c6"
   },
   "outputs": [],
   "source": [
    "folder_path = '1. data_nasdaq_csv'"
   ]
  },
  {
   "cell_type": "code",
   "execution_count": 3,
   "id": "aa3a38b3-ff4f-4c4e-8944-8715ed93a320",
   "metadata": {
    "id": "aa3a38b3-ff4f-4c4e-8944-8715ed93a320"
   },
   "outputs": [],
   "source": [
    "dataframes = []\n",
    "company_names = []"
   ]
  },
  {
   "cell_type": "code",
   "execution_count": 4,
   "id": "iP0P5gBNiOfe",
   "metadata": {
    "id": "iP0P5gBNiOfe"
   },
   "outputs": [],
   "source": [
    "# big market cap\n",
    "stocks = ['AAPL', 'MSFT', 'AMZN', 'NVDA', 'ASML', 'COST', 'CSCO', 'ADBE', 'CMCSA',\n",
    "          'TXN', 'AMGN', 'NFLX', 'SBUX', 'INTC', 'MDLZ', 'QCOM', 'AMAT', 'FAST', \n",
    "          'CHTR', 'ORLY', 'SNPS', 'CTAS', 'DXCM', 'BIDU', 'EA', 'SBAC', 'MAR',\n",
    "          'CTSH', 'VRSK', 'TSCO']"
   ]
  },
  {
   "cell_type": "code",
   "execution_count": 6,
   "id": "AGcvza0EmPxf",
   "metadata": {
    "colab": {
     "base_uri": "https://localhost:8080/"
    },
    "id": "AGcvza0EmPxf",
    "outputId": "2fc498d9-6a8c-4856-dd27-b6e8f14128e3"
   },
   "outputs": [
    {
     "data": {
      "text/plain": [
       "['data_nasdaq_csv/AAPL.csv',\n",
       " 'data_nasdaq_csv/MSFT.csv',\n",
       " 'data_nasdaq_csv/AMZN.csv',\n",
       " 'data_nasdaq_csv/NVDA.csv',\n",
       " 'data_nasdaq_csv/ASML.csv',\n",
       " 'data_nasdaq_csv/COST.csv',\n",
       " 'data_nasdaq_csv/CSCO.csv',\n",
       " 'data_nasdaq_csv/ADBE.csv',\n",
       " 'data_nasdaq_csv/CMCSA.csv',\n",
       " 'data_nasdaq_csv/TXN.csv',\n",
       " 'data_nasdaq_csv/AMGN.csv',\n",
       " 'data_nasdaq_csv/NFLX.csv',\n",
       " 'data_nasdaq_csv/SBUX.csv',\n",
       " 'data_nasdaq_csv/INTC.csv',\n",
       " 'data_nasdaq_csv/MDLZ.csv',\n",
       " 'data_nasdaq_csv/QCOM.csv',\n",
       " 'data_nasdaq_csv/AMAT.csv',\n",
       " 'data_nasdaq_csv/FAST.csv',\n",
       " 'data_nasdaq_csv/CHTR.csv',\n",
       " 'data_nasdaq_csv/ORLY.csv',\n",
       " 'data_nasdaq_csv/SNPS.csv',\n",
       " 'data_nasdaq_csv/CTAS.csv',\n",
       " 'data_nasdaq_csv/DXCM.csv',\n",
       " 'data_nasdaq_csv/BIDU.csv',\n",
       " 'data_nasdaq_csv/EA.csv',\n",
       " 'data_nasdaq_csv/SBAC.csv',\n",
       " 'data_nasdaq_csv/MAR.csv',\n",
       " 'data_nasdaq_csv/CTSH.csv',\n",
       " 'data_nasdaq_csv/VRSK.csv',\n",
       " 'data_nasdaq_csv/TSCO.csv']"
      ]
     },
     "execution_count": 6,
     "metadata": {},
     "output_type": "execute_result"
    }
   ],
   "source": [
    "paths = []\n",
    "for stock in stocks:\n",
    "    path = os.path.join(folder_path, stock + '.csv')\n",
    "    paths.append(path)\n",
    "paths"
   ]
  },
  {
   "cell_type": "code",
   "execution_count": 7,
   "id": "MWBCPlOHm9ym",
   "metadata": {
    "id": "MWBCPlOHm9ym"
   },
   "outputs": [],
   "source": [
    "from sklearn.preprocessing import MinMaxScaler\n",
    "\n",
    "window_size = 30\n",
    "X_data, y_data = [], []\n",
    "scaler = MinMaxScaler(feature_range=(0,1))\n",
    "\n",
    "for path in paths:\n",
    "    df = pd.read_csv(path)\n",
    "    df1 = df.reset_index()['Close']\n",
    "    df1 = scaler.fit_transform(np.array(df1).reshape(-1,1))\n",
    "    for i in range(len(df1)-window_size-7):\n",
    "        a = df1[i:(i + window_size)]\n",
    "        X_data.append(a)\n",
    "        b = df1[(i + window_size):(i + window_size+7)] \n",
    "        y_data.append(b) "
   ]
  },
  {
   "cell_type": "code",
   "execution_count": 8,
   "id": "8qVc0lSW-B8Z",
   "metadata": {
    "id": "8qVc0lSW-B8Z"
   },
   "outputs": [],
   "source": [
    "# from google.colab import drive\n",
    "# drive.mount('/content/drive')"
   ]
  },
  {
   "cell_type": "code",
   "execution_count": 9,
   "id": "iiY0THvpo8Zh",
   "metadata": {
    "colab": {
     "base_uri": "https://localhost:8080/"
    },
    "id": "iiY0THvpo8Zh",
    "outputId": "2a5a5471-b64a-410e-b58d-a04136d73199"
   },
   "outputs": [
    {
     "name": "stdout",
     "output_type": "stream",
     "text": [
      "Shape of training set:  (185690, 30, 1)\n",
      "Shape of validation set:  (20633, 30, 1)\n",
      "Shape of test set:  (22925, 30, 1)\n"
     ]
    }
   ],
   "source": [
    "### Split the data into training, validation and test set\n",
    "from helper_functions import data_preprocessing as pp\n",
    "X_train, y_train, X_val, y_val, X_test, y_test = pp.split_dataset(X_data, y_data, 0.1)\n",
    "\n",
    "print(\"Shape of training set: \", X_train.shape)\n",
    "print(\"Shape of validation set: \", X_val.shape)\n",
    "print(\"Shape of test set: \", X_test.shape)"
   ]
  },
  {
   "cell_type": "code",
   "execution_count": 10,
   "id": "ClZOiKt4qHPz",
   "metadata": {
    "colab": {
     "base_uri": "https://localhost:8080/"
    },
    "id": "ClZOiKt4qHPz",
    "outputId": "d26c669e-6733-4c99-c328-7dc212543080"
   },
   "outputs": [
    {
     "name": "stdout",
     "output_type": "stream",
     "text": [
      "Shape of training set:  (185690, 30, 1)\n",
      "Shape of validation set:  (20633, 30, 1)\n",
      "Shape of test set:  (22925, 30, 1)\n"
     ]
    }
   ],
   "source": [
    "# Reshape the numpy array to fit the neural network input shape requirement\n",
    "X_train = X_train.reshape(X_train.shape[0], window_size, 1)\n",
    "X_val = X_val.reshape(X_val.shape[0], window_size, 1)\n",
    "X_test = X_test.reshape(X_test.shape[0], window_size, 1)\n",
    "\n",
    "# Print shape of the training, validation and test set\n",
    "print(\"Shape of training set: \", X_train.shape)\n",
    "print(\"Shape of validation set: \", X_val.shape)\n",
    "print(\"Shape of test set: \", X_test.shape)"
   ]
  },
  {
   "cell_type": "code",
   "execution_count": 11,
   "id": "-44-B0cZqDmB",
   "metadata": {
    "id": "-44-B0cZqDmB"
   },
   "outputs": [],
   "source": [
    "### Reshape the data to fit the LSTM model"
   ]
  },
  {
   "cell_type": "code",
   "execution_count": 12,
   "id": "nWF70tjeo1fi",
   "metadata": {
    "colab": {
     "base_uri": "https://localhost:8080/"
    },
    "id": "nWF70tjeo1fi",
    "outputId": "b9ad8aff-7bfb-43da-8d33-051cf3b27301"
   },
   "outputs": [
    {
     "name": "stderr",
     "output_type": "stream",
     "text": [
      "WARNING:tensorflow:Layer lstm will not use cuDNN kernels since it doesn't meet the criteria. It will use a generic GPU kernel as fallback when running on GPU.\n",
      "WARNING:tensorflow:Layer lstm_1 will not use cuDNN kernels since it doesn't meet the criteria. It will use a generic GPU kernel as fallback when running on GPU.\n",
      "WARNING:tensorflow:Layer lstm_2 will not use cuDNN kernels since it doesn't meet the criteria. It will use a generic GPU kernel as fallback when running on GPU.\n"
     ]
    },
    {
     "name": "stdout",
     "output_type": "stream",
     "text": [
      "Model: \"sequential\"\n",
      "_________________________________________________________________\n",
      " Layer (type)                Output Shape              Param #   \n",
      "=================================================================\n",
      " lstm (LSTM)                 (None, 30, 128)           66560     \n",
      "                                                                 \n",
      " lstm_1 (LSTM)               (None, 30, 50)            35800     \n",
      "                                                                 \n",
      " lstm_2 (LSTM)               (None, 50)                20200     \n",
      "                                                                 \n",
      " dense (Dense)               (None, 7)                 357       \n",
      "                                                                 \n",
      "=================================================================\n",
      "Total params: 122,917\n",
      "Trainable params: 122,917\n",
      "Non-trainable params: 0\n",
      "_________________________________________________________________\n"
     ]
    }
   ],
   "source": [
    "### Create and train the model\n",
    "import tensorflow as tf\n",
    "from tensorflow.keras.models import Sequential\n",
    "from tensorflow.keras.layers import LSTM, Dropout, Dense, BatchNormalization\n",
    "from tensorflow.keras.callbacks import EarlyStopping\n",
    "\n",
    "# Define the LSTM model\n",
    "model = Sequential()\n",
    "model.add(LSTM(128, return_sequences=True, input_shape=(30, 1), activation='relu'))  # LSTM layer with 128 units\n",
    "model.add(LSTM(50, activation='relu', return_sequences=True))  \n",
    "model.add(LSTM(50, activation='relu'))  \n",
    "model.add(Dense(7))  # Dense output layer with 7 units\n",
    "\n",
    "early_stopping = EarlyStopping(monitor='val_mse', patience=10, restore_best_weights=True)\n",
    "model.summary()\n"
   ]
  },
  {
   "cell_type": "code",
   "execution_count": 13,
   "id": "neL52pqHpC6e",
   "metadata": {
    "id": "neL52pqHpC6e"
   },
   "outputs": [],
   "source": [
    "# Compile and train the model with Mean Squared Error loss function\n",
    "model.compile(optimizer= tf.keras.optimizers.Adam(learning_rate=0.01), loss='mse', metrics=['mse'])"
   ]
  },
  {
   "cell_type": "code",
   "execution_count": 14,
   "id": "DE_hXiXPpGMQ",
   "metadata": {
    "colab": {
     "base_uri": "https://localhost:8080/"
    },
    "id": "DE_hXiXPpGMQ",
    "outputId": "616ed0b0-4d0d-4330-c36b-9148211ca3b1"
   },
   "outputs": [
    {
     "name": "stdout",
     "output_type": "stream",
     "text": [
      "Epoch 1/20\n",
      "181/181 [==============================] - 46s 224ms/step - loss: 0.0211 - mse: 0.0211 - val_loss: 9.1998e-04 - val_mse: 9.1998e-04\n",
      "Epoch 2/20\n",
      "181/181 [==============================] - 31s 172ms/step - loss: 3.9491e-04 - mse: 3.9491e-04 - val_loss: 6.9110e-04 - val_mse: 6.9110e-04\n",
      "Epoch 3/20\n",
      "181/181 [==============================] - 35s 191ms/step - loss: 3.2189e-04 - mse: 3.2189e-04 - val_loss: 5.2305e-04 - val_mse: 5.2305e-04\n",
      "Epoch 4/20\n",
      "181/181 [==============================] - 32s 178ms/step - loss: 2.5762e-04 - mse: 2.5762e-04 - val_loss: 5.5070e-04 - val_mse: 5.5070e-04\n",
      "Epoch 5/20\n",
      "181/181 [==============================] - 33s 185ms/step - loss: 2.2749e-04 - mse: 2.2749e-04 - val_loss: 4.0581e-04 - val_mse: 4.0581e-04\n",
      "Epoch 6/20\n",
      "181/181 [==============================] - 32s 176ms/step - loss: 1.9334e-04 - mse: 1.9334e-04 - val_loss: 4.0139e-04 - val_mse: 4.0139e-04\n",
      "Epoch 7/20\n",
      "181/181 [==============================] - 31s 174ms/step - loss: 1.7603e-04 - mse: 1.7603e-04 - val_loss: 3.2366e-04 - val_mse: 3.2366e-04\n",
      "Epoch 8/20\n",
      "181/181 [==============================] - 34s 186ms/step - loss: 1.7992e-04 - mse: 1.7992e-04 - val_loss: 3.7423e-04 - val_mse: 3.7423e-04\n",
      "Epoch 9/20\n",
      "181/181 [==============================] - 31s 174ms/step - loss: 1.7069e-04 - mse: 1.7069e-04 - val_loss: 3.1316e-04 - val_mse: 3.1316e-04\n",
      "Epoch 10/20\n",
      "181/181 [==============================] - 33s 181ms/step - loss: 1.5337e-04 - mse: 1.5337e-04 - val_loss: 3.1300e-04 - val_mse: 3.1300e-04\n",
      "Epoch 11/20\n",
      "181/181 [==============================] - 32s 177ms/step - loss: 1.4921e-04 - mse: 1.4921e-04 - val_loss: 2.9816e-04 - val_mse: 2.9816e-04\n",
      "Epoch 12/20\n",
      "181/181 [==============================] - 31s 172ms/step - loss: 1.6300e-04 - mse: 1.6300e-04 - val_loss: 3.1405e-04 - val_mse: 3.1405e-04\n",
      "Epoch 13/20\n",
      "181/181 [==============================] - 33s 183ms/step - loss: 1.5182e-04 - mse: 1.5182e-04 - val_loss: 4.1782e-04 - val_mse: 4.1782e-04\n",
      "Epoch 14/20\n",
      "181/181 [==============================] - 32s 180ms/step - loss: 1.6445e-04 - mse: 1.6445e-04 - val_loss: 3.3429e-04 - val_mse: 3.3429e-04\n",
      "Epoch 15/20\n",
      "181/181 [==============================] - 32s 178ms/step - loss: 1.6050e-04 - mse: 1.6050e-04 - val_loss: 3.1046e-04 - val_mse: 3.1046e-04\n",
      "Epoch 16/20\n",
      "181/181 [==============================] - 34s 186ms/step - loss: 1.5194e-04 - mse: 1.5194e-04 - val_loss: 2.9601e-04 - val_mse: 2.9601e-04\n",
      "Epoch 17/20\n",
      "181/181 [==============================] - 32s 177ms/step - loss: 1.4876e-04 - mse: 1.4876e-04 - val_loss: 3.1889e-04 - val_mse: 3.1889e-04\n",
      "Epoch 18/20\n",
      "181/181 [==============================] - 34s 187ms/step - loss: 1.5137e-04 - mse: 1.5137e-04 - val_loss: 3.3551e-04 - val_mse: 3.3551e-04\n",
      "Epoch 19/20\n",
      "181/181 [==============================] - 32s 177ms/step - loss: 1.5462e-04 - mse: 1.5462e-04 - val_loss: 3.5708e-04 - val_mse: 3.5708e-04\n",
      "Epoch 20/20\n",
      "181/181 [==============================] - 34s 190ms/step - loss: 1.5430e-04 - mse: 1.5430e-04 - val_loss: 2.9731e-04 - val_mse: 2.9731e-04\n"
     ]
    },
    {
     "data": {
      "text/plain": [
       "<keras.callbacks.History at 0x7fbd101061d0>"
      ]
     },
     "execution_count": 14,
     "metadata": {},
     "output_type": "execute_result"
    }
   ],
   "source": [
    "model.fit(X_train,y_train,validation_data=(X_val,y_val),epochs=20,batch_size=1028,verbose=1,callbacks = [early_stopping])"
   ]
  },
  {
   "cell_type": "code",
   "execution_count": 15,
   "id": "fQFZAZwYpKv2",
   "metadata": {
    "colab": {
     "base_uri": "https://localhost:8080/"
    },
    "id": "fQFZAZwYpKv2",
    "outputId": "839be988-e084-488a-9374-4bbd069a462f"
   },
   "outputs": [
    {
     "name": "stdout",
     "output_type": "stream",
     "text": [
      "717/717 [==============================] - 12s 16ms/step\n",
      "MSE on the test set:  0.00022199837584700038\n"
     ]
    }
   ],
   "source": [
    "### Get prediction on the test data and convert the result back to stock price (i.e., de-normalization)\n",
    "from sklearn.metrics import mean_squared_error\n",
    "\n",
    "# Get prediction on the test data\n",
    "y_pred = model.predict(X_test)\n",
    "y_pred = np.reshape(y_pred, (-1, 1))\n",
    "y_test = np.reshape(y_test, (-1, 1))\n",
    "print(\"MSE on the test set: \", mean_squared_error(y_pred, y_test))"
   ]
  },
  {
   "cell_type": "code",
   "execution_count": 19,
   "id": "298d7cd9-f511-433e-b0a0-ba4f19797011",
   "metadata": {
    "colab": {
     "base_uri": "https://localhost:8080/"
    },
    "id": "298d7cd9-f511-433e-b0a0-ba4f19797011",
    "outputId": "2424f65e-4342-4307-a9ca-d8128740a525"
   },
   "outputs": [
    {
     "name": "stderr",
     "output_type": "stream",
     "text": [
      "WARNING:tensorflow:Layer lstm_3 will not use cuDNN kernels since it doesn't meet the criteria. It will use a generic GPU kernel as fallback when running on GPU.\n",
      "WARNING:tensorflow:Layer lstm_4 will not use cuDNN kernels since it doesn't meet the criteria. It will use a generic GPU kernel as fallback when running on GPU.\n"
     ]
    },
    {
     "name": "stdout",
     "output_type": "stream",
     "text": [
      "Epoch 1/20\n",
      "181/181 [==============================] - 27s 130ms/step - loss: 0.0123 - mse: 0.0123 - val_loss: 7.6127e-04 - val_mse: 7.6127e-04\n",
      "Epoch 2/20\n",
      "181/181 [==============================] - 22s 121ms/step - loss: 4.6427e-04 - mse: 4.6427e-04 - val_loss: 7.6889e-04 - val_mse: 7.6889e-04\n",
      "Epoch 3/20\n",
      "181/181 [==============================] - 23s 128ms/step - loss: 3.7416e-04 - mse: 3.7416e-04 - val_loss: 7.3178e-04 - val_mse: 7.3178e-04\n",
      "Epoch 4/20\n",
      "181/181 [==============================] - 23s 126ms/step - loss: 3.1505e-04 - mse: 3.1505e-04 - val_loss: 8.5921e-04 - val_mse: 8.5921e-04\n",
      "Epoch 5/20\n",
      "181/181 [==============================] - 21s 117ms/step - loss: 2.7889e-04 - mse: 2.7889e-04 - val_loss: 0.0011 - val_mse: 0.0011\n",
      "Epoch 6/20\n",
      "181/181 [==============================] - 23s 127ms/step - loss: 2.4705e-04 - mse: 2.4705e-04 - val_loss: 0.0015 - val_mse: 0.0015\n",
      "Epoch 7/20\n",
      "181/181 [==============================] - 23s 125ms/step - loss: 2.3778e-04 - mse: 2.3778e-04 - val_loss: 0.0023 - val_mse: 0.0023\n",
      "Epoch 8/20\n",
      "181/181 [==============================] - 21s 115ms/step - loss: 2.1510e-04 - mse: 2.1510e-04 - val_loss: 0.0026 - val_mse: 0.0026\n",
      "Epoch 9/20\n",
      "181/181 [==============================] - 23s 127ms/step - loss: 2.0472e-04 - mse: 2.0472e-04 - val_loss: 0.0033 - val_mse: 0.0033\n",
      "Epoch 10/20\n",
      "181/181 [==============================] - 23s 127ms/step - loss: 2.0169e-04 - mse: 2.0169e-04 - val_loss: 0.0031 - val_mse: 0.0031\n",
      "Epoch 11/20\n",
      "181/181 [==============================] - 21s 118ms/step - loss: 1.9268e-04 - mse: 1.9268e-04 - val_loss: 0.0031 - val_mse: 0.0031\n",
      "Epoch 12/20\n",
      "181/181 [==============================] - 23s 129ms/step - loss: 1.8831e-04 - mse: 1.8831e-04 - val_loss: 0.0032 - val_mse: 0.0032\n",
      "Epoch 13/20\n",
      "181/181 [==============================] - 23s 126ms/step - loss: 1.7784e-04 - mse: 1.7784e-04 - val_loss: 0.0039 - val_mse: 0.0039\n"
     ]
    },
    {
     "data": {
      "text/plain": [
       "<keras.callbacks.History at 0x7fbc881ad600>"
      ]
     },
     "execution_count": 19,
     "metadata": {},
     "output_type": "execute_result"
    }
   ],
   "source": [
    "# Try another model\n",
    "import tensorflow as tf\n",
    "from tensorflow.keras.models import Sequential\n",
    "from tensorflow.keras.layers import LSTM, Dropout, Dense\n",
    "\n",
    "# Define the LSTM model\n",
    "model2 = Sequential()\n",
    "model2.add(LSTM(128, return_sequences=True, input_shape=(30, 1), activation='relu'))  # LSTM layer with 128 units\n",
    "model2.add(Dropout(0.2))  # Dropout layer for regularization\n",
    "model2.add(LSTM(64, activation='relu'))  # LSTM layer with 64 units\n",
    "model2.add(Dense(32, activation='relu'))  # Dense layer with 32 units and ReLU activation\n",
    "model2.add(Dense(1))  # Dense output layer with 7 units\n",
    "\n",
    "# Compile and train the model with Mean Squared Error loss function\n",
    "model2.compile(optimizer= tf.keras.optimizers.Adam(learning_rate=0.01), loss='mse', metrics=['mse'])\n",
    "model2.fit(X_train,y_train,validation_data=(X_val,y_val),epochs=20,batch_size=1028,verbose=1,callbacks = [early_stopping])"
   ]
  }
 ],
 "metadata": {
  "accelerator": "GPU",
  "colab": {
   "gpuType": "T4",
   "provenance": []
  },
  "gpuClass": "standard",
  "kernelspec": {
   "display_name": "Python 3 (ipykernel)",
   "language": "python",
   "name": "python3"
  },
  "language_info": {
   "codemirror_mode": {
    "name": "ipython",
    "version": 3
   },
   "file_extension": ".py",
   "mimetype": "text/x-python",
   "name": "python",
   "nbconvert_exporter": "python",
   "pygments_lexer": "ipython3",
   "version": "3.9.13"
  }
 },
 "nbformat": 4,
 "nbformat_minor": 5
}
